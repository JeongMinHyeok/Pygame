{
 "cells": [
  {
   "cell_type": "markdown",
   "id": "c024e2b9-48fc-4bef-afee-46f55e884bdb",
   "metadata": {},
   "source": [
    "## Pygame으로 게임 만들기 - 7강 캐릭터 추가하기"
   ]
  },
  {
   "cell_type": "markdown",
   "id": "a4de7188-9f56-4e07-91f8-4345fb871722",
   "metadata": {},
   "source": [
    "- 이전 시간에 배웠던 이미지 튕기기에 글러브 추가하기\n",
    "- 글러브가 화면 밖으로 벗어나지 않도록하고, 양 옆으로만 움직일 수 있도록 제한하기"
   ]
  },
  {
   "cell_type": "code",
   "execution_count": 1,
   "id": "3a9eddaa-4130-47a6-8598-b5cb79ca86c0",
   "metadata": {},
   "outputs": [
    {
     "name": "stdout",
     "output_type": "stream",
     "text": [
      "pygame 2.1.2 (SDL 2.0.18, Python 3.9.7)\n",
      "Hello from the pygame community. https://www.pygame.org/contribute.html\n"
     ]
    }
   ],
   "source": [
    "import pygame"
   ]
  },
  {
   "cell_type": "code",
   "execution_count": 6,
   "id": "30a68351-a1a3-4663-ba3f-9d58b432cc46",
   "metadata": {},
   "outputs": [],
   "source": [
    "pygame.init()\n",
    "\n",
    "background = pygame.display.set_mode((550, 382)) # 배경 이미지에 맞추어 화면크기 설정함\n",
    "pygame.display.set_caption('PYGAME_7')\n",
    "\n",
    "# 이미지 파일 준비\n",
    "image_bg = pygame.image.load('./image/fungo.png')\n",
    "image_ball = pygame.image.load('./image/ball_small.png')\n",
    "image_glove = pygame.image.load('./image/glove_small.png')\n",
    "\n",
    "# 배경의 사이즈 가져오기\n",
    "size_bg_width = background.get_size()[0]\n",
    "size_bg_height = background.get_size()[1]\n",
    "\n",
    "# glove의 사이즈 가져오기\n",
    "size_glove_width = image_glove.get_rect().size[0]\n",
    "size_glove_height = image_glove.get_rect().size[1]\n",
    "\n",
    "# glove의 좌표값 설정하기\n",
    "x_pos_glove = size_bg_width/2 - size_glove_width/2 # x좌표값 상 중앙\n",
    "y_pos_glove = size_bg_height - size_glove_height # 맨 아래 (전체 높이에서 이미지 높이 만큼 뺀 값)\n",
    "\n",
    "# 키보드 움직임에 의한 좌표 변수 (양 옆으로만 움직일 것이므로 x좌표만)\n",
    "to_x = 0\n",
    "\n",
    "# ball의 사이즈 가져오기 (가로, 세로)\n",
    "size_ball_width = image_ball.get_rect().size[0]\n",
    "size_ball_height = image_ball.get_rect().size[1]\n",
    "\n",
    "# ball의 좌표값 설정하기\n",
    "x_pos_ball = size_bg_width/2 - size_ball_width/2 # 가운데\n",
    "y_pos_ball = 0 # 맨 위\n",
    "\n",
    "# ball의 x,y 축 속도 변수 (좌표에 더해줄 목적)\n",
    "x_speed_ball = 1\n",
    "y_speed_ball = 1\n",
    "\n",
    "play = True\n",
    "while play:\n",
    "    for event in pygame.event.get():\n",
    "        if event.type == pygame.QUIT:\n",
    "            play = False\n",
    "        if event.type == pygame.KEYDOWN: # 키보드가 눌렸을때\n",
    "            if event.key == pygame.K_RIGHT:\n",
    "                to_x = 1\n",
    "            elif event.key == pygame.K_LEFT:\n",
    "                to_x = -1\n",
    "        if event.type == pygame.KEYUP: # 키보드를 뗐을때\n",
    "            if event.key == pygame.K_RIGHT:\n",
    "                to_x = 0\n",
    "            elif event.key == pygame.K_LEFT:\n",
    "                to_x = 0\n",
    "    \n",
    "    # glove가 화면 밖으로 벗어나지 않도록 제한\n",
    "    if x_pos_glove < 0:\n",
    "        x_pos_glove = 0\n",
    "    elif x_pos_glove > size_bg_width - size_glove_width:\n",
    "        x_pos_glove = size_bg_width - size_glove_width\n",
    "    else:\n",
    "        x_pos_glove += to_x\n",
    "        \n",
    "    x_pos_ball += x_speed_ball\n",
    "    y_pos_ball += y_speed_ball\n",
    "        \n",
    "    # x좌표값을 제한하고 speed변수를 음수로 바꿔 방향 전환하기\n",
    "    if x_pos_ball <= 0:\n",
    "        x_speed_ball = -x_speed_ball\n",
    "        x_pos_ball = 0\n",
    "    elif x_pos_ball >= size_bg_width - size_ball_width:\n",
    "        x_speed_ball = -x_speed_ball\n",
    "        x_pos_ball = size_bg_width - size_ball_width\n",
    "        \n",
    "    if y_pos_ball <= 0:\n",
    "        y_speed_ball = -y_speed_ball\n",
    "        y_pos_ball = 0\n",
    "    elif y_pos_ball >= size_bg_height-size_ball_height:\n",
    "        y_speed_ball = -y_speed_ball\n",
    "        y_pos_ball = size_bg_height-size_ball_height\n",
    "            \n",
    "    # 이미지 삽입 및 업데이트\n",
    "    background.blit(image_bg, (0,0))\n",
    "    background.blit(image_ball, (x_pos_ball, y_pos_ball))\n",
    "    background.blit(image_glove, (x_pos_glove, y_pos_glove))\n",
    "    pygame.display.update()\n",
    "    \n",
    "pygame.quit()"
   ]
  },
  {
   "cell_type": "code",
   "execution_count": null,
   "id": "a25280bb-a8b0-4411-96ec-23c87afe0d78",
   "metadata": {},
   "outputs": [],
   "source": []
  }
 ],
 "metadata": {
  "kernelspec": {
   "display_name": "Python 3 (ipykernel)",
   "language": "python",
   "name": "python3"
  },
  "language_info": {
   "codemirror_mode": {
    "name": "ipython",
    "version": 3
   },
   "file_extension": ".py",
   "mimetype": "text/x-python",
   "name": "python",
   "nbconvert_exporter": "python",
   "pygments_lexer": "ipython3",
   "version": "3.9.7"
  }
 },
 "nbformat": 4,
 "nbformat_minor": 5
}
