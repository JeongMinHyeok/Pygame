{
 "cells": [
  {
   "cell_type": "markdown",
   "id": "be4604a9-e503-420d-8079-865e1254740f",
   "metadata": {},
   "source": [
    "## Pygame으로 게임 만들기 - 4강 이미지 사용하기"
   ]
  },
  {
   "cell_type": "code",
   "execution_count": 1,
   "id": "6d24bfcf-fe72-4cd5-bd87-38ccf3f5f689",
   "metadata": {},
   "outputs": [
    {
     "name": "stdout",
     "output_type": "stream",
     "text": [
      "pygame 2.1.2 (SDL 2.0.18, Python 3.9.7)\n",
      "Hello from the pygame community. https://www.pygame.org/contribute.html\n"
     ]
    }
   ],
   "source": [
    "import pygame"
   ]
  },
  {
   "cell_type": "markdown",
   "id": "bfdd890e-16b0-47e2-902a-2d9a2b5718e7",
   "metadata": {},
   "source": [
    "### 이미지 로드하기 및 배치하기"
   ]
  },
  {
   "cell_type": "code",
   "execution_count": 13,
   "id": "4f52e1b9-1a70-481e-836f-be3746149f29",
   "metadata": {},
   "outputs": [],
   "source": [
    "pygame.init()\n",
    "\n",
    "background = pygame.display.set_mode((818, 532)) # 배경 이미지에 맞추어 화면크기 설정함\n",
    "pygame.display.set_caption('PYGAME_4')\n",
    "\n",
    "# 이미지 파일 준비\n",
    "image_bg = pygame.image.load('./image/stadium.png')\n",
    "image_ball = pygame.image.load('./image/ball_small.png')\n",
    "image_player = pygame.image.load('./image/player_small.png')\n",
    "\n",
    "# 배경의 사이즈 가져오기\n",
    "size_bg_width = background.get_size()[0]\n",
    "size_bg_height = background.get_size()[1]\n",
    "\n",
    "# ball의 사이즈 가져오기 (가로, 세로)\n",
    "size_ball_width = image_ball.get_rect().size[0]\n",
    "size_ball_height = image_ball.get_rect().size[1]\n",
    "\n",
    "# ball의 좌표값 설정하기\n",
    "x_pos_ball = 10 # x좌표 상 왼쪽 살짝 앞에 위치\n",
    "y_pos_ball = size_bg_height/2 - size_ball_height/2 # y좌표 상 가운데 위치\n",
    "\n",
    "# player의 사이즈 가져오기\n",
    "size_player_width = image_player.get_rect().size[0]\n",
    "size_player_height = image_player.get_rect().size[1]\n",
    "\n",
    "# player의 좌표값 설정하기\n",
    "x_pos_player = size_bg_width - size_player_width # x좌표 상 제일 끝(오른쪽)에 위치 / 가려지지 않도록 조정\n",
    "y_pos_player = size_bg_height/2 - size_player_height/2 # y좌표 상 가운데 위치\n",
    "\n",
    "play = True\n",
    "while play:\n",
    "    for event in pygame.event.get():\n",
    "        if event.type == pygame.QUIT:\n",
    "            play = False\n",
    "            \n",
    "    # 이미지 삽입시에는 background.blit(이미지, 좌표) 사용\n",
    "    background.blit(image_bg, (0,0))\n",
    "    background.blit(image_ball, (x_pos_ball, y_pos_ball))\n",
    "    background.blit(image_player, (x_pos_player, y_pos_player))\n",
    "    pygame.display.update()\n",
    "            \n",
    "pygame.quit()"
   ]
  },
  {
   "cell_type": "markdown",
   "id": "7f446e39-869f-4b93-a8bd-cfa1f505b62d",
   "metadata": {},
   "source": [
    "- 이미지의 중심좌표가 아닌 왼쪽 가장자리(0,0)를 기준으로 배치하게 됨\n",
    "    - ex) 이미지를 x좌표 상 가운데 두고 싶다면\n",
    "    - 배경의 width/2에서 이미지의 width/2만큼을 빼주어야 이미지를 가운데 위치시킬 수 있다."
   ]
  },
  {
   "cell_type": "code",
   "execution_count": null,
   "id": "4fb78af2-a20a-4953-a9db-fc38d8611f11",
   "metadata": {},
   "outputs": [],
   "source": []
  }
 ],
 "metadata": {
  "kernelspec": {
   "display_name": "Python 3 (ipykernel)",
   "language": "python",
   "name": "python3"
  },
  "language_info": {
   "codemirror_mode": {
    "name": "ipython",
    "version": 3
   },
   "file_extension": ".py",
   "mimetype": "text/x-python",
   "name": "python",
   "nbconvert_exporter": "python",
   "pygments_lexer": "ipython3",
   "version": "3.9.7"
  }
 },
 "nbformat": 4,
 "nbformat_minor": 5
}
