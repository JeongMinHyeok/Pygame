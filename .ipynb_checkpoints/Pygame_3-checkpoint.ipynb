{
 "cells": [
  {
   "cell_type": "markdown",
   "id": "005843c0-3f8d-4ace-ba7d-5cc92523bef9",
   "metadata": {},
   "source": [
    "## Pygame으로 게임 만들기 - 3강 선, 도형그리기"
   ]
  },
  {
   "cell_type": "code",
   "execution_count": 1,
   "id": "282ae858-86a0-4c0f-a2e8-56ee208fd575",
   "metadata": {},
   "outputs": [
    {
     "name": "stdout",
     "output_type": "stream",
     "text": [
      "pygame 2.1.2 (SDL 2.0.18, Python 3.9.7)\n",
      "Hello from the pygame community. https://www.pygame.org/contribute.html\n"
     ]
    }
   ],
   "source": [
    "import pygame"
   ]
  },
  {
   "cell_type": "markdown",
   "id": "3bafc1df-8e17-4110-b16c-849970586533",
   "metadata": {},
   "source": [
    "### 선 그리기"
   ]
  },
  {
   "cell_type": "code",
   "execution_count": 3,
   "id": "ffebb366-6c3f-4789-966c-85703936400d",
   "metadata": {},
   "outputs": [],
   "source": [
    "pygame.init()\n",
    "\n",
    "background = pygame.display.set_mode((480, 360))\n",
    "pygame.display.set_caption('PYGAME_2')\n",
    "\n",
    "play = True\n",
    "while play:\n",
    "    for event in pygame.event.get():\n",
    "        if event.type == pygame.QUIT:\n",
    "            play = False\n",
    "            \n",
    "    background.fill((255,255,255)) # 배경 흰색\n",
    "    \n",
    "    # 선 그리기\n",
    "    # pygame.draw.line(화면, 색, 시작 위치, 끝 위치, 선 굵기)\n",
    "    pygame.draw.line(background, (0,0,0), (240,0), (240,360))\n",
    "    pygame.draw.line(background, (0,0,0), (0,180), (480,180), 5)\n",
    "    pygame.draw.line(background, (0,0,0), (0,360), (480,0), 3)\n",
    "    \n",
    "    pygame.display.update()\n",
    "    \n",
    "pygame.quit()"
   ]
  },
  {
   "cell_type": "markdown",
   "id": "5ea8843f-caa2-4f65-a0db-38f5142335b9",
   "metadata": {},
   "source": [
    "- 선 그리기\n",
    "    - pygame.draw.line(화면, 색, 시작 위치, 끝 위치, 선 굵기)\n",
    "    - 선 굵기 defalut = 1"
   ]
  },
  {
   "cell_type": "markdown",
   "id": "ae7b7794-eda3-4b2c-8fdf-50b40c4f9fa0",
   "metadata": {},
   "source": [
    "### for 문으로 선 여러개 그리기"
   ]
  },
  {
   "cell_type": "code",
   "execution_count": 8,
   "id": "e224af98-cd13-4f42-b75e-5a018a9ab92a",
   "metadata": {},
   "outputs": [],
   "source": [
    "pygame.init()\n",
    "\n",
    "background = pygame.display.set_mode((480, 360))\n",
    "pygame.display.set_caption('PYGAME_3')\n",
    "\n",
    "play = True\n",
    "while play:\n",
    "    for event in pygame.event.get():\n",
    "        if event.type == pygame.QUIT:\n",
    "            play = False\n",
    "            \n",
    "    background.fill((255,255,255)) # 배경 흰색\n",
    "    \n",
    "    # for문을 통해 선 여러개 그리기\n",
    "    for i in range(0,480,30):\n",
    "        pygame.draw.line(background, (0,0,0), (i,0), (i,360))\n",
    "    for i in range(0,360,30):\n",
    "        pygame.draw.line(background, (0,0,0), (0,i), (480,i))\n",
    "    \n",
    "    pygame.display.update()\n",
    "    \n",
    "pygame.quit()"
   ]
  },
  {
   "cell_type": "markdown",
   "id": "f2208d09-0952-4aa2-a9e5-ef8327182e85",
   "metadata": {},
   "source": [
    "### 원 그리기"
   ]
  },
  {
   "cell_type": "code",
   "execution_count": 6,
   "id": "be3b56af-ec86-48cc-bab7-d75627614c3d",
   "metadata": {},
   "outputs": [],
   "source": [
    "pygame.init()\n",
    "\n",
    "background = pygame.display.set_mode((480, 360))\n",
    "pygame.display.set_caption('PYGAME_2')\n",
    "\n",
    "# 중심 좌표\n",
    "x = background.get_size()[0]//2 # 240\n",
    "y = background.get_size()[1]//2 # 180\n",
    "\n",
    "play = True\n",
    "while play:\n",
    "    for event in pygame.event.get():\n",
    "        if event.type == pygame.QUIT:\n",
    "            play = False\n",
    "            \n",
    "    background.fill((255,255,255))\n",
    "    \n",
    "    # 원\n",
    "    # pygame.draw.circle(화면, 색, 중심 좌표, 반지름, 선 굵기)\n",
    "    # pygame.draw.circle(background, (255,0,0), (240,180), 50)\n",
    "    pygame.draw.circle(background, (255,0,0), (240,180), 50, 5)\n",
    "            \n",
    "    # 중심점 기준으로 선 그려주기\n",
    "    pygame.draw.line(background, (0,0,0), (x,0), (x,y*2))\n",
    "    pygame.draw.line(background, (0,0,0), (0,y), (x*2,y))\n",
    "    pygame.display.update()\n",
    "    \n",
    "pygame.quit()"
   ]
  },
  {
   "cell_type": "markdown",
   "id": "bf95ecba-e23f-4cea-8d41-dd65e3c312cd",
   "metadata": {},
   "source": [
    "- 중심 좌표를 미리 설정하면 화면 크기가 바뀌어도 중심점 똑같이 유지할 수 있음\n",
    "- 선 굵기 defalut : 원 전체 채울 정도"
   ]
  },
  {
   "cell_type": "markdown",
   "id": "9c0f2587-7bd4-49b6-843c-ab30ace7bcbd",
   "metadata": {},
   "source": [
    "### 사각형 그리기"
   ]
  },
  {
   "cell_type": "code",
   "execution_count": 7,
   "id": "3d3239bd-0af1-42c7-b195-31b55c64e8f7",
   "metadata": {},
   "outputs": [],
   "source": [
    "pygame.init()\n",
    "\n",
    "background = pygame.display.set_mode((480, 360))\n",
    "pygame.display.set_caption('PYGAME_2')\n",
    "\n",
    "# 중심 좌표\n",
    "x = background.get_size()[0]//2 # 240\n",
    "y = background.get_size()[1]//2 # 180\n",
    "\n",
    "play = True\n",
    "while play:\n",
    "    for event in pygame.event.get():\n",
    "        if event.type == pygame.QUIT:\n",
    "            play = False\n",
    "            \n",
    "    background.fill((255,255,255))\n",
    "    \n",
    "    # 다각형\n",
    "    # pygame.draw.rect(화면, 색, 위치와 크기, 선 굵기)\n",
    "    # pygame.draw.rect(background, (0,255,0), (240,180,100,50))\n",
    "    pygame.draw.rect(background, (0,255,0), (240,180,100,50), 5)\n",
    "            \n",
    "    # 중심점 기준으로 선 그려주기\n",
    "    pygame.draw.line(background, (0,0,0), (x,0), (x,y*2))\n",
    "    pygame.draw.line(background, (0,0,0), (0,y), (x*2,y))\n",
    "    pygame.display.update()\n",
    "    \n",
    "pygame.quit()"
   ]
  },
  {
   "cell_type": "markdown",
   "id": "d42d89dc-d9d1-48dd-b959-465cd6f1af1c",
   "metadata": {},
   "source": [
    "- 위치와 크기를 한꺼번에 설정\n",
    "    - ex) (240, 180, 100, 50)\n",
    "    - (240, 180) : 시작 점의 좌표 (왼쪽 상단 가장자리 점)\n",
    "    - 100 : 가로의 길이\n",
    "    - 50 : 세로의 길이"
   ]
  },
  {
   "cell_type": "markdown",
   "id": "008c0eb1-c5bc-4b2f-b168-52ffbe3b16d4",
   "metadata": {},
   "source": [
    "### 타원 그리기"
   ]
  },
  {
   "cell_type": "code",
   "execution_count": 9,
   "id": "bb3a1ac3-5dc7-4708-8ef9-a51ab2ea9f7d",
   "metadata": {},
   "outputs": [],
   "source": [
    "pygame.init()\n",
    "\n",
    "background = pygame.display.set_mode((480, 360))\n",
    "pygame.display.set_caption('PYGAME_2')\n",
    "\n",
    "# 중심 좌표\n",
    "x = background.get_size()[0]//2 # 240\n",
    "y = background.get_size()[1]//2 # 180\n",
    "\n",
    "play = True\n",
    "while play:\n",
    "    for event in pygame.event.get():\n",
    "        if event.type == pygame.QUIT:\n",
    "            play = False\n",
    "            \n",
    "    background.fill((255,255,255))\n",
    "    \n",
    "    # 타원\n",
    "    # pygame.draw.ellipse(화면, 색, 위치와 크기, 선 굵기)\n",
    "    # pygame.draw.ellipse(background, (0,0,255), (240,180,100,50))\n",
    "    pygame.draw.rect(background, (0,255,0), (240,180,100,50), 5)\n",
    "    pygame.draw.ellipse(background, (0,0,255), (240,180,100,50), 5) # 여러 도형을 같이 그릴 수도 있다.\n",
    "            \n",
    "    # 중심점 기준으로 선 그려주기\n",
    "    pygame.draw.line(background, (0,0,0), (x,0), (x,y*2))\n",
    "    pygame.draw.line(background, (0,0,0), (0,y), (x*2,y))\n",
    "    pygame.display.update()\n",
    "    \n",
    "pygame.quit()"
   ]
  },
  {
   "cell_type": "markdown",
   "id": "b66caebc-cb55-4db9-a533-b65b629c9ba3",
   "metadata": {},
   "source": [
    "- 파라미터 설정은 사각형과 똑같다."
   ]
  },
  {
   "cell_type": "markdown",
   "id": "e4f66e9c-ef9a-48b6-b75a-d2b719a8b594",
   "metadata": {},
   "source": [
    "### 다각형 그리기"
   ]
  },
  {
   "cell_type": "code",
   "execution_count": 11,
   "id": "eeecd5fd-306d-440d-9717-78669bb9f99f",
   "metadata": {},
   "outputs": [],
   "source": [
    "pygame.init()\n",
    "\n",
    "background = pygame.display.set_mode((480, 360))\n",
    "pygame.display.set_caption('PYGAME_2')\n",
    "\n",
    "# 중심 좌표\n",
    "x = background.get_size()[0]//2 # 240\n",
    "y = background.get_size()[1]//2 # 180\n",
    "\n",
    "play = True\n",
    "while play:\n",
    "    for event in pygame.event.get():\n",
    "        if event.type == pygame.QUIT:\n",
    "            play = False\n",
    "            \n",
    "    background.fill((255,255,255))\n",
    "    \n",
    "    # 다각형\n",
    "    # pygame.draw.polygon(화면, 색, 점들의 위치, 선 굵기)\n",
    "    pygame.draw.polygon(background, (0,0,255), [[100,100], [0,200],[200,200]]) # 삼각형\n",
    "    pygame.draw.polygon(background, (255,255,0), ((146,0),(291,106),(236,277),(56,277),(0,106)), 5) # 오각형\n",
    "    \n",
    "            \n",
    "    # 중심점 기준으로 선 그려주기\n",
    "    pygame.draw.line(background, (0,0,0), (x,0), (x,y*2))\n",
    "    pygame.draw.line(background, (0,0,0), (0,y), (x*2,y))\n",
    "    pygame.display.update()\n",
    "    \n",
    "pygame.quit()"
   ]
  },
  {
   "cell_type": "markdown",
   "id": "2ea100f6-5db5-441a-aad7-5ab15fe47816",
   "metadata": {},
   "source": [
    "- 원하는 형태의 다각형을 만들 수 있음\n",
    "- 좌표는 tuple, list등 괄호의 형태로 넣어주면 됨"
   ]
  },
  {
   "cell_type": "code",
   "execution_count": null,
   "id": "db7c9826-f671-4ea9-9797-685a4251b478",
   "metadata": {},
   "outputs": [],
   "source": []
  }
 ],
 "metadata": {
  "kernelspec": {
   "display_name": "Python 3 (ipykernel)",
   "language": "python",
   "name": "python3"
  },
  "language_info": {
   "codemirror_mode": {
    "name": "ipython",
    "version": 3
   },
   "file_extension": ".py",
   "mimetype": "text/x-python",
   "name": "python",
   "nbconvert_exporter": "python",
   "pygments_lexer": "ipython3",
   "version": "3.9.7"
  }
 },
 "nbformat": 4,
 "nbformat_minor": 5
}
