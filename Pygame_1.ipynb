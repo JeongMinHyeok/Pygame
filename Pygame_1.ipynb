{
 "cells": [
  {
   "cell_type": "markdown",
   "id": "aee5f66b-6151-44e2-a4ae-100002b42922",
   "metadata": {},
   "source": [
    "## Pygame으로 게임 만들기"
   ]
  },
  {
   "cell_type": "code",
   "execution_count": null,
   "id": "402cbcbd-75e5-4e25-885c-1a01d4a507ce",
   "metadata": {},
   "outputs": [],
   "source": []
  }
 ],
 "metadata": {
  "kernelspec": {
   "display_name": "Python 3 (ipykernel)",
   "language": "python",
   "name": "python3"
  },
  "language_info": {
   "codemirror_mode": {
    "name": "ipython",
    "version": 3
   },
   "file_extension": ".py",
   "mimetype": "text/x-python",
   "name": "python",
   "nbconvert_exporter": "python",
   "pygments_lexer": "ipython3",
   "version": "3.9.7"
  }
 },
 "nbformat": 4,
 "nbformat_minor": 5
}
