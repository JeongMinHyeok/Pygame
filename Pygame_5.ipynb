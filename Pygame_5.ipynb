{
 "cells": [
  {
   "cell_type": "markdown",
   "id": "0b4c8b2c-4769-4a16-bdd2-880287db84f2",
   "metadata": {},
   "source": [
    "## Pygame으로 게임 만들기 - 5강 키보드 + 마우스 + 이미지 적용하기"
   ]
  },
  {
   "cell_type": "code",
   "execution_count": 1,
   "id": "5710a7b3-2510-4984-8f8d-ef7831d3ae4c",
   "metadata": {},
   "outputs": [
    {
     "name": "stdout",
     "output_type": "stream",
     "text": [
      "pygame 2.1.2 (SDL 2.0.18, Python 3.9.7)\n",
      "Hello from the pygame community. https://www.pygame.org/contribute.html\n"
     ]
    }
   ],
   "source": [
    "import pygame"
   ]
  },
  {
   "cell_type": "markdown",
   "id": "4c92fd7d-bee9-42f7-8ae3-2d828b691834",
   "metadata": {},
   "source": [
    "### 이전에 배운 내용 활용해 이미지에 키보드/마우스 움직임 적용"
   ]
  },
  {
   "cell_type": "markdown",
   "id": "b3958289-0381-4c01-a697-577efa527596",
   "metadata": {},
   "source": [
    "#### 키보드\n",
    "- 키보드로 공 움직이기"
   ]
  },
  {
   "cell_type": "code",
   "execution_count": 6,
   "id": "98f1ef7e-cf49-4bab-8202-8e2849fccd94",
   "metadata": {},
   "outputs": [],
   "source": [
    "pygame.init()\n",
    "\n",
    "background = pygame.display.set_mode((550, 382)) # 배경 이미지에 맞추어 화면크기 설정함\n",
    "pygame.display.set_caption('PYGAME_5')\n",
    "\n",
    "fps = pygame.time.Clock() # 키보드용 fps 설정을 위해\n",
    "\n",
    "# 이미지 파일 준비\n",
    "image_bg = pygame.image.load('./image/fungo.png')\n",
    "image_ball = pygame.image.load('./image/ball_small.png')\n",
    "image_glove = pygame.image.load('./image/glove_small.png')\n",
    "\n",
    "# 배경의 사이즈 가져오기\n",
    "size_bg_width = background.get_size()[0]\n",
    "size_bg_height = background.get_size()[1]\n",
    "\n",
    "# ball의 사이즈 가져오기 (가로, 세로)\n",
    "size_ball_width = image_ball.get_rect().size[0]\n",
    "size_ball_height = image_ball.get_rect().size[1]\n",
    "\n",
    "# ball의 좌표값 설정하기\n",
    "x_pos_ball = size_bg_width/2 - size_ball_width/2 # 가운데\n",
    "y_pos_ball = 0 # 맨 위\n",
    "\n",
    "# 키보드 움직임에 의한 좌표 변수\n",
    "to_x = 0\n",
    "to_y = 0\n",
    "\n",
    "play = True\n",
    "while play:\n",
    "    deltaTime = fps.tick(120)\n",
    "    for event in pygame.event.get():\n",
    "        if event.type == pygame.QUIT:\n",
    "            play = False\n",
    "        if event.type == pygame.KEYDOWN: # 키보드가 눌렸을때\n",
    "            if event.key == pygame.K_UP:\n",
    "                to_y = -2\n",
    "            elif event.key == pygame.K_DOWN:\n",
    "                to_y = 2\n",
    "            elif event.key == pygame.K_RIGHT:\n",
    "                to_x = 2\n",
    "            elif event.key == pygame.K_LEFT:\n",
    "                to_x = -2\n",
    "        if event.type == pygame.KEYUP: # 키보드가 떼졌을때\n",
    "            if event.key == pygame.K_UP:\n",
    "                to_y = 0\n",
    "            elif event.key == pygame.K_DOWN:\n",
    "                to_y = 0\n",
    "            elif event.key == pygame.K_RIGHT:\n",
    "                to_x = 0\n",
    "            elif event.key == pygame.K_LEFT:\n",
    "                to_x = 0\n",
    "                \n",
    "    # ball의 좌표에 키보드 움직임 적용해주기\n",
    "    x_pos_ball += to_x\n",
    "    y_pos_ball += to_y\n",
    "        \n",
    "    # 이미지 삽입 및 업데이트\n",
    "    background.blit(image_bg, (0,0))\n",
    "    background.blit(image_ball, (x_pos_ball, y_pos_ball))\n",
    "    pygame.display.update()\n",
    "        \n",
    "pygame.quit()"
   ]
  },
  {
   "cell_type": "markdown",
   "id": "4d346036-dc46-4ee7-b74e-2dbbcb33d19d",
   "metadata": {},
   "source": [
    "#### 마우스\n",
    "- 마우스로 글러브 움직이기"
   ]
  },
  {
   "cell_type": "code",
   "execution_count": 8,
   "id": "89ee689b-42e7-4e32-b4cd-047d2404d38d",
   "metadata": {},
   "outputs": [],
   "source": [
    "pygame.init()\n",
    "\n",
    "background = pygame.display.set_mode((550, 382)) # 배경 이미지에 맞추어 화면크기 설정함\n",
    "pygame.display.set_caption('PYGAME_5')\n",
    "\n",
    "# 이미지 파일 준비\n",
    "image_bg = pygame.image.load('./image/fungo.png')\n",
    "image_ball = pygame.image.load('./image/ball_small.png')\n",
    "image_glove = pygame.image.load('./image/glove_small.png')\n",
    "\n",
    "# 배경의 사이즈 가져오기\n",
    "size_bg_width = background.get_size()[0]\n",
    "size_bg_height = background.get_size()[1]\n",
    "\n",
    "# glove의 사이즈 가져오기\n",
    "size_glove_width = image_glove.get_rect().size[0]\n",
    "size_glove_height = image_glove.get_rect().size[1]\n",
    "\n",
    "# glove의 좌표값 설정하기\n",
    "x_pos_glove = size_bg_width/2 - size_glove_width/2\n",
    "y_pos_glove = size_bg_height\n",
    "\n",
    "play = True\n",
    "while play:\n",
    "    for event in pygame.event.get():\n",
    "        if event.type == pygame.QUIT:\n",
    "            play = False\n",
    "        if event.type == pygame.MOUSEMOTION:\n",
    "            x_pos_mouse, y_pos_mouse = pygame.mouse.get_pos() # 마우스 좌표 불러오기\n",
    "            x_pos_glove = x_pos_mouse - size_glove_width/2\n",
    "            y_pos_glove = y_pos_mouse - size_glove_height/2\n",
    "            \n",
    "    # 이미지 삽입 및 업데이트\n",
    "    background.blit(image_bg, (0,0))\n",
    "    background.blit(image_glove, (x_pos_glove, y_pos_glove))\n",
    "    pygame.display.update()\n",
    "    \n",
    "pygame.quit()"
   ]
  },
  {
   "cell_type": "markdown",
   "id": "16c04e58-da23-4bb5-90e2-d44d69d17fa7",
   "metadata": {},
   "source": [
    "#### x_pos_glove = x_pos_mouse - size_glove_width/2\n",
    "#### y_pos_glove = y_pos_mouse - size_glove_height/2\n",
    "\n",
    "- 마우스 좌표를 그대로 받지 않고 계산해서 쓰는 이유\n",
    "    - pygame은 기본좌표가 (0,0), 즉 왼쪽 가장자리가 기본 좌표로 설정된다.\n",
    "    - 마우스의 좌표를 그대로 적용한다면 글러브 가운데가 아닌 왼쪽 가장자리를 중심으로 마우스를 따라다니게 된다."
   ]
  },
  {
   "cell_type": "code",
   "execution_count": null,
   "id": "924947a1-f450-46f4-a903-383ce1e7f09c",
   "metadata": {},
   "outputs": [],
   "source": []
  }
 ],
 "metadata": {
  "kernelspec": {
   "display_name": "Python 3 (ipykernel)",
   "language": "python",
   "name": "python3"
  },
  "language_info": {
   "codemirror_mode": {
    "name": "ipython",
    "version": 3
   },
   "file_extension": ".py",
   "mimetype": "text/x-python",
   "name": "python",
   "nbconvert_exporter": "python",
   "pygments_lexer": "ipython3",
   "version": "3.9.7"
  }
 },
 "nbformat": 4,
 "nbformat_minor": 5
}
