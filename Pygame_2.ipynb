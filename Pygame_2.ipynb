{
 "cells": [
  {
   "cell_type": "markdown",
   "id": "0a32ea5e-9775-4282-b78e-34cf3c07769e",
   "metadata": {},
   "source": [
    "## Pygame으로 게임 만들기 - 2강 마우스로 조종하기"
   ]
  },
  {
   "cell_type": "code",
   "execution_count": 2,
   "id": "cd973926-866b-4b1a-ac7b-d781b8076010",
   "metadata": {},
   "outputs": [
    {
     "name": "stdout",
     "output_type": "stream",
     "text": [
      "pygame 2.1.2 (SDL 2.0.18, Python 3.9.7)\n",
      "Hello from the pygame community. https://www.pygame.org/contribute.html\n"
     ]
    }
   ],
   "source": [
    "import pygame"
   ]
  },
  {
   "cell_type": "markdown",
   "id": "f249046d-492b-48ba-998e-425c8496713b",
   "metadata": {},
   "source": [
    "- pygame.init()부터 while문, pygame.quit()까지는 pygame을 실행하기 위한 기본 구성!"
   ]
  },
  {
   "cell_type": "code",
   "execution_count": 3,
   "id": "bdcb9e71-a52b-4ce6-ae4b-34214b720c96",
   "metadata": {
    "scrolled": true,
    "tags": []
   },
   "outputs": [
    {
     "name": "stdout",
     "output_type": "stream",
     "text": [
      "MOUSEMOTION\n",
      "MOUSEMOTION\n",
      "MOUSEMOTION\n",
      "MOUSEMOTION\n",
      "MOUSEMOTION\n",
      "MOUSEMOTION\n",
      "MOUSEMOTION\n",
      "MOUSEMOTION\n",
      "MOUSEMOTION\n",
      "MOUSEMOTION\n",
      "MOUSEMOTION\n",
      "MOUSEMOTION\n",
      "MOUSEMOTION\n",
      "MOUSEMOTION\n",
      "MOUSEMOTION\n",
      "MOUSEMOTION\n",
      "MOUSEMOTION\n",
      "MOUSEMOTION\n",
      "MOUSEMOTION\n",
      "MOUSEMOTION\n",
      "MOUSEMOTION\n",
      "MOUSEMOTION\n",
      "MOUSEMOTION\n",
      "MOUSEMOTION\n",
      "MOUSEMOTION\n",
      "MOUSEMOTION\n",
      "MOUSEMOTION\n",
      "MOUSEMOTION\n",
      "MOUSEMOTION\n",
      "MOUSEMOTION\n",
      "MOUSEMOTION\n",
      "MOUSEMOTION\n",
      "MOUSEMOTION\n",
      "MOUSEMOTION\n",
      "MOUSEMOTION\n",
      "MOUSEMOTION\n",
      "MOUSEMOTION\n",
      "MOUSEMOTION\n",
      "MOUSEMOTION\n",
      "MOUSEMOTION\n",
      "MOUSEMOTION\n",
      "MOUSEMOTION\n",
      "MOUSEMOTION\n",
      "MOUSEMOTION\n",
      "MOUSEMOTION\n",
      "MOUSEMOTION\n",
      "MOUSEBUTTONDOWN\n",
      "MOUSEBUTTONUP\n",
      "MOUSEBUTTONDOWN\n",
      "MOUSEBUTTONUP\n",
      "MOUSEMOTION\n",
      "MOUSEMOTION\n",
      "MOUSEMOTION\n",
      "MOUSEMOTION\n",
      "MOUSEMOTION\n",
      "MOUSEMOTION\n",
      "MOUSEMOTION\n",
      "MOUSEMOTION\n",
      "MOUSEMOTION\n",
      "MOUSEMOTION\n",
      "MOUSEMOTION\n",
      "MOUSEMOTION\n",
      "MOUSEMOTION\n",
      "MOUSEMOTION\n",
      "MOUSEMOTION\n",
      "MOUSEMOTION\n",
      "MOUSEMOTION\n",
      "MOUSEMOTION\n",
      "MOUSEMOTION\n",
      "MOUSEMOTION\n",
      "MOUSEMOTION\n",
      "MOUSEMOTION\n",
      "MOUSEMOTION\n",
      "MOUSEMOTION\n",
      "MOUSEMOTION\n",
      "MOUSEMOTION\n",
      "MOUSEMOTION\n",
      "MOUSEMOTION\n",
      "MOUSEMOTION\n",
      "MOUSEMOTION\n",
      "MOUSEMOTION\n",
      "MOUSEMOTION\n",
      "MOUSEMOTION\n"
     ]
    }
   ],
   "source": [
    "# pygame을 실행할때는 init(), 종료할때는 quit()을 꼭 적어줘야 함!\n",
    "pygame.init()\n",
    "\n",
    "#창 크기 지정\n",
    "background = pygame.display.set_mode((480, 360))\n",
    "#창 이름 지정\n",
    "pygame.display.set_caption('PYGAME_2')\n",
    "\n",
    "# boolean 함수를 생성해 while문 작성\n",
    "play = True\n",
    "while play:\n",
    "    for event in pygame.event.get():\n",
    "        if event.type == pygame.QUIT: #game의 event type이 QUIT 명령이라면\n",
    "            play = False # while문을 종료시킴\n",
    "        # 마우스와 관련된 이벤트 추가\n",
    "        if event.type == pygame.MOUSEMOTION: # 마우스가 움직일 때\n",
    "            print('MOUSEMOTION')\n",
    "        if event.type == pygame.MOUSEBUTTONDOWN: # 마우스의 버튼을 눌렀을 때\n",
    "            print('MOUSEBUTTONDOWN')\n",
    "        if event.type == pygame.MOUSEBUTTONUP: # 마우스 버튼을 뗐을 때\n",
    "            print('MOUSEBUTTONUP')\n",
    "\n",
    "pygame.quit()"
   ]
  },
  {
   "cell_type": "markdown",
   "id": "9f2cf502-7ff6-441e-9722-17f4e7f01c42",
   "metadata": {},
   "source": [
    "### 마우스의 현재 좌표 print하기"
   ]
  },
  {
   "cell_type": "code",
   "execution_count": null,
   "id": "6a90d27b-d7b0-4c7a-a081-f8ff09bf2caf",
   "metadata": {},
   "outputs": [],
   "source": [
    "pygame.init()\n",
    "\n",
    "background = pygame.display.set_mode((480, 360))\n",
    "pygame.display.set_caption('PYGAME_2')\n",
    "\n",
    "play = True\n",
    "while play:\n",
    "    for event in pygame.event.get():\n",
    "        if event.type == pygame.QUIT:\n",
    "            play = False\n",
    "        if event.type == pygame.MOUSEMOTION:\n",
    "            print(pygame.mouse.get_pos()) # 마우스의 현재 좌표를 반환하는 메서드\n",
    "        if event.type == pygame.MOUSEBUTTONDOWN:\n",
    "            print('MOUSEBUTTONDOWN')\n",
    "        if event.type == pygame.MOUSEBUTTONUP:\n",
    "            print('MOUSEBUTTONUP')\n",
    "\n",
    "pygame.quit()"
   ]
  },
  {
   "attachments": {
    "1d40fa7e-e1e4-418e-9984-9f8479e67be7.png": {
     "image/png": "[encoded data removed]"
    }
   },
   "cell_type": "markdown",
   "id": "d17a76d8-d13a-4377-a9c1-6a8513edc997",
   "metadata": {},
   "source": [
    "![image.png](attachment:1d40fa7e-e1e4-418e-9984-9f8479e67be7.png)"
   ]
  },
  {
   "cell_type": "markdown",
   "id": "144fb4dc-a655-49f7-a15d-5fa7e4a24667",
   "metadata": {},
   "source": [
    "- 위와 같이 마우스가 움직일 때마다 현재 좌표가 tuple의 형태로 print된다.\n",
    "- 이를 응용해서 마우스 클릭 및 드래그 시의 좌표도 알아낼 수 있다."
   ]
  },
  {
   "cell_type": "markdown",
   "id": "d44c21a8-dfb8-4b37-accf-d95155ce05e7",
   "metadata": {},
   "source": [
    "### 마우스 각 버튼에 대한 event code 알아보기\n",
    "- 왼쪽 클릭, 휠 클릭, 오른쪽 클릭, 휠 올리기, 휠 내리기"
   ]
  },
  {
   "cell_type": "code",
   "execution_count": 4,
   "id": "c4e560d6-796e-4f7f-a796-553b4ed5d866",
   "metadata": {},
   "outputs": [
    {
     "name": "stdout",
     "output_type": "stream",
     "text": [
      "왼쪽 클릭\n",
      "왼쪽 클릭\n",
      "오른쪽 클릭\n",
      "휠 올리기\n",
      "휠 클릭\n",
      "휠 올리기\n",
      "휠 내리기\n",
      "휠 내리기\n"
     ]
    }
   ],
   "source": [
    "pygame.init()\n",
    "\n",
    "background = pygame.display.set_mode((480, 360))\n",
    "pygame.display.set_caption('PYGAME_2')\n",
    "\n",
    "play = True\n",
    "while play:\n",
    "    for event in pygame.event.get():\n",
    "        if event.type == pygame.QUIT:\n",
    "            play = False\n",
    "        if event.type == pygame.MOUSEMOTION:\n",
    "            # print(pygame.mouse.get_pos())\n",
    "            pass\n",
    "        if event.type == pygame.MOUSEBUTTONDOWN:\n",
    "            if event.button == 1:\n",
    "                print('왼쪽 클릭')\n",
    "            elif event.button == 2:\n",
    "                print('휠 클릭')\n",
    "            elif event.button == 3:\n",
    "                print('오른쪽 클릭')\n",
    "            elif event.button == 4:\n",
    "                print('휠 올리기')\n",
    "            elif event.button == 5:\n",
    "                print('휠 내리기')\n",
    "        if event.type == pygame.MOUSEBUTTONUP:\n",
    "            # print('MOUSEBUTTONUP')\n",
    "            pass\n",
    "\n",
    "pygame.quit()"
   ]
  },
  {
   "cell_type": "markdown",
   "id": "62e5132c-e8e1-4119-8286-67b11e88a361",
   "metadata": {},
   "source": [
    "- event.button\n",
    "    - 1 = 왼쪽 클릭\n",
    "    - 2 = 휠 클릭\n",
    "    - 3 = 오른쪽 클릭\n",
    "    - 4 = 휠 올리기\n",
    "    - 5 = 휠 내리기"
   ]
  },
  {
   "cell_type": "markdown",
   "id": "003a4c59-7450-4816-925e-98273596301d",
   "metadata": {},
   "source": [
    "### 마우스로 원 그리기"
   ]
  },
  {
   "cell_type": "code",
   "execution_count": 5,
   "id": "27d0d682-0a4c-43a0-8695-48f0f5d1ec7a",
   "metadata": {},
   "outputs": [],
   "source": [
    "pygame.init()\n",
    "\n",
    "background = pygame.display.set_mode((480, 360))\n",
    "pygame.display.set_caption('PYGAME_2')\n",
    "\n",
    "x_pos = 0 # x좌표\n",
    "y_pos = 0 # y좌표\n",
    "\n",
    "play = True\n",
    "while play:\n",
    "    for event in pygame.event.get():\n",
    "        if event.type == pygame.QUIT:\n",
    "            play = False\n",
    "        if event.type == pygame.MOUSEMOTION:\n",
    "            x_pos, y_pos = pygame.mouse.get_pos() # 현재 마우스의 좌표를 받아서\n",
    "            pygame.draw.circle(background, (255,0,255), (x_pos,y_pos), 10) # 해당 위치에 원 그리기\n",
    "        if event.type == pygame.MOUSEBUTTONDOWN:\n",
    "            if event.button == 1: # 왼쪽 버튼 클릭시\n",
    "                background.fill((0,0,0)) # 배경 검정색으로 초기화\n",
    "                \n",
    "        pygame.display.update()\n",
    "        \n",
    "pygame.quit()"
   ]
  },
  {
   "cell_type": "markdown",
   "id": "f70a46fe-af4a-4485-a4e4-c731c0497446",
   "metadata": {},
   "source": [
    "- 마우스가 움직일 때 원이 그려지고 클릭 시 배경이 채워지는 구조"
   ]
  },
  {
   "cell_type": "markdown",
   "id": "9a778c07-2492-4666-92ae-78fb26a7a9a8",
   "metadata": {},
   "source": [
    "### 원으로 마우스 포인터만들기"
   ]
  },
  {
   "cell_type": "code",
   "execution_count": 7,
   "id": "d419a194-d964-44b7-9b66-4d66356dbc25",
   "metadata": {},
   "outputs": [],
   "source": [
    "pygame.init()\n",
    "\n",
    "background = pygame.display.set_mode((480, 360))\n",
    "pygame.display.set_caption('PYGAME_2')\n",
    "\n",
    "# 원의 위치가 가운데 오도록\n",
    "x_pos = background.get_size()[0]//2 # 240\n",
    "y_pos = background.get_size()[1]//2 # 180\n",
    "\n",
    "play = True\n",
    "while play:\n",
    "    for event in pygame.event.get():\n",
    "        if event.type == pygame.QUIT:\n",
    "            play = False\n",
    "        if event.type == pygame.MOUSEMOTION:\n",
    "            x_pos, y_pos = pygame.mouse.get_pos() # 현재 마우스의 좌표를 받아서\n",
    "            \n",
    "        background.fill((0,0,0)) # 이젠에 있었던 원 배경으로 덮고\n",
    "        pygame.draw.circle(background, (255,0,255), (x_pos, y_pos), 10) # 새로운 좌표에 새로운 원 그림\n",
    "        pygame.display.update()\n",
    "        \n",
    "pygame.quit()"
   ]
  },
  {
   "cell_type": "markdown",
   "id": "a76b5d49-c70e-45c9-b1eb-65a0d233d240",
   "metadata": {},
   "source": [
    "- 배경으로 먼저 덮고 원을 새로 그리는 구조이기 때문에 원이 이어지지 않음"
   ]
  },
  {
   "cell_type": "code",
   "execution_count": null,
   "id": "dee22359-fb27-4fa8-9cb8-f45655605707",
   "metadata": {},
   "outputs": [],
   "source": []
  }
 ],
 "metadata": {
  "kernelspec": {
   "display_name": "Python 3 (ipykernel)",
   "language": "python",
   "name": "python3"
  },
  "language_info": {
   "codemirror_mode": {
    "name": "ipython",
    "version": 3
   },
   "file_extension": ".py",
   "mimetype": "text/x-python",
   "name": "python",
   "nbconvert_exporter": "python",
   "pygments_lexer": "ipython3",
   "version": "3.9.7"
  },
  "vscode": {
   "interpreter": {
    "hash": "685979fd8052dee23d6e16219890e9f72c593ff2bda0923ca3f3a2459567140e"
   }
  }
 },
 "nbformat": 4,
 "nbformat_minor": 5
}
